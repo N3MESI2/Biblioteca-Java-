{
  "cells": [
    {
      "cell_type": "markdown",
      "metadata": {
        "id": "view-in-github",
        "colab_type": "text"
      },
      "source": [
        "<a href=\"https://colab.research.google.com/github/N3MESI2/Biblioteca-Java-/blob/main/Ejercicios_Patrones_POO.ipynb\" target=\"_parent\"><img src=\"https://colab.research.google.com/assets/colab-badge.svg\" alt=\"Open In Colab\"/></a>"
      ]
    },
    {
      "cell_type": "markdown",
      "metadata": {
        "id": "6Dd38qYc5II8"
      },
      "source": [
        "# Ejercicios de Patrones de Diseño – POO\n",
        "Implementaciones prácticas en Python y Java.\n",
        "\n",
        "Autor: **Tomás Romero Baylac**  \n",
        "Materia: **Paradigmas y Lenguajes de Programación II – Universidad de la Cuenca del Plata**"
      ]
    },
    {
      "cell_type": "code",
      "metadata": {
        "colab": {
          "base_uri": "https://localhost:8080/"
        },
        "id": "4X16DFO05II-",
        "outputId": "49e5681c-2f0e-44d4-be47-774892928f2e"
      },
      "source": [
        "# Ir a /content, borrar cualquier clon previo y clonar limpio\n",
        "%cd /content\n",
        "!rm -rf Ejercicios-de-Patrones-de-Dise-o-POO\n",
        "!git clone https://github.com/N3MESI2/Ejercicios-de-Patrones-de-Dise-o-POO.git\n",
        "%cd /content/Ejercicios-de-Patrones-de-Dise-o-POO\n",
        "\n",
        "# (opcional) ver estructura a 3 niveles para ubicarnos\n",
        "!find . -maxdepth 3 -type d | sort\n",
        "\n",
        "# Instalar Java\n",
        "!sudo apt-get update -y\n",
        "!sudo apt-get install -y openjdk-17-jdk\n",
        "!java -version\n",
        "!javac -version\n"
      ],
      "execution_count": 9,
      "outputs": [
        {
          "output_type": "stream",
          "name": "stdout",
          "text": [
            "/content\n",
            "Cloning into 'Ejercicios-de-Patrones-de-Dise-o-POO'...\n",
            "remote: Enumerating objects: 155, done.\u001b[K\n",
            "remote: Counting objects: 100% (155/155), done.\u001b[K\n",
            "remote: Compressing objects: 100% (129/129), done.\u001b[K\n",
            "remote: Total 155 (delta 17), reused 148 (delta 15), pack-reused 0 (from 0)\u001b[K\n",
            "Receiving objects: 100% (155/155), 56.62 KiB | 966.00 KiB/s, done.\n",
            "Resolving deltas: 100% (17/17), done.\n",
            "/content/Ejercicios-de-Patrones-de-Dise-o-POO\n",
            ".\n",
            "./ejercicio1\n",
            "./ejercicio1/java\n",
            "./ejercicio1/java/notifications\n",
            "./ejercicio1/python\n",
            "./ejercicio1/python/notifications\n",
            "./ejercicio2\n",
            "./ejercicio2/java\n",
            "./ejercicio2/java/data_refactor\n",
            "./ejercicio2/python\n",
            "./ejercicio2/python/data_refactor\n",
            "./ejercicio3\n",
            "./ejercicio3/java\n",
            "./ejercicio3/java/payments\n",
            "./ejercicio3/python\n",
            "./ejercicio3/python/payments\n",
            "./.git\n",
            "./.git/branches\n",
            "./.git/hooks\n",
            "./.git/info\n",
            "./.git/logs\n",
            "./.git/logs/refs\n",
            "./.git/objects\n",
            "./.git/objects/info\n",
            "./.git/objects/pack\n",
            "./.git/refs\n",
            "./.git/refs/heads\n",
            "./.git/refs/remotes\n",
            "./.git/refs/tags\n",
            "Hit:1 https://cli.github.com/packages stable InRelease\n",
            "Hit:2 https://developer.download.nvidia.com/compute/cuda/repos/ubuntu2204/x86_64  InRelease\n",
            "Hit:3 https://cloud.r-project.org/bin/linux/ubuntu jammy-cran40/ InRelease\n",
            "Hit:4 http://security.ubuntu.com/ubuntu jammy-security InRelease\n",
            "Hit:5 https://r2u.stat.illinois.edu/ubuntu jammy InRelease\n",
            "Hit:6 http://archive.ubuntu.com/ubuntu jammy InRelease\n",
            "Hit:7 http://archive.ubuntu.com/ubuntu jammy-updates InRelease\n",
            "Hit:8 https://ppa.launchpadcontent.net/deadsnakes/ppa/ubuntu jammy InRelease\n",
            "Hit:9 http://archive.ubuntu.com/ubuntu jammy-backports InRelease\n",
            "Hit:10 https://ppa.launchpadcontent.net/graphics-drivers/ppa/ubuntu jammy InRelease\n",
            "Hit:11 https://ppa.launchpadcontent.net/ubuntugis/ppa/ubuntu jammy InRelease\n",
            "Reading package lists... Done\n",
            "W: Skipping acquire of configured file 'main/source/Sources' as repository 'https://r2u.stat.illinois.edu/ubuntu jammy InRelease' does not seem to provide it (sources.list entry misspelt?)\n",
            "Reading package lists... Done\n",
            "Building dependency tree... Done\n",
            "Reading state information... Done\n",
            "openjdk-17-jdk is already the newest version (17.0.16+8~us1-0ubuntu1~22.04.1).\n",
            "0 upgraded, 0 newly installed, 0 to remove and 42 not upgraded.\n",
            "openjdk version \"17.0.16\" 2025-07-15\n",
            "OpenJDK Runtime Environment (build 17.0.16+8-Ubuntu-0ubuntu122.04.1)\n",
            "OpenJDK 64-Bit Server VM (build 17.0.16+8-Ubuntu-0ubuntu122.04.1, mixed mode, sharing)\n",
            "javac 17.0.16\n"
          ]
        }
      ]
    },
    {
      "cell_type": "markdown",
      "metadata": {
        "id": "LpFe7Se85II_"
      },
      "source": [
        "## Ejercicio 1 – Sistema de notificaciones extensible\n",
        "**Patrones:** Observer, Strategy, Factory"
      ]
    },
    {
      "cell_type": "code",
      "metadata": {
        "colab": {
          "base_uri": "https://localhost:8080/"
        },
        "id": "o1n5pC515II_",
        "outputId": "ee588324-e154-4f15-95b2-3d83be71b9f2"
      },
      "source": [
        "# Versión Python\n",
        "%cd /content/Ejercicios-de-Patrones-de-Dise-o-POO/ejercicio1/python/notifications\n",
        "!ls  # acá deberías ver la carpeta \"notifications\" con __init__.py\n",
        "!python -m notifications.demo\n",
        "\n"
      ],
      "execution_count": 10,
      "outputs": [
        {
          "output_type": "stream",
          "name": "stdout",
          "text": [
            "/content/Ejercicios-de-Patrones-de-Dise-o-POO/ejercicio1/python/notifications\n",
            "notifications  README.md\n",
            "[EMAIL::sendgrid] para=u1@example.com asunto=¡Bienvenido/a, Tomás! cuerpo=Hola Tomás, gracias por registrarte el 06/10/2025 19:13:28.\n",
            "[SMS::twilio] para=+5493700000000 cuerpo=Tu pago para la orden A123 fue rechazado. Intenta nuevamente.\n"
          ]
        }
      ]
    },
    {
      "cell_type": "code",
      "metadata": {
        "colab": {
          "base_uri": "https://localhost:8080/"
        },
        "id": "2U4IWfW65IJA",
        "outputId": "75d6eea7-92b4-40a4-e22c-1b2053e2d45e"
      },
      "source": [
        "# Versión Java\n",
        "%cd /content/Ejercicios-de-Patrones-de-Dise-o-POO/ejercicio1/java/notifications\n",
        "# Verificá que exista Main.java\n",
        "!ls -l Main.java\n",
        "\n",
        "# Limpia y compila TODO: primero Main.java y luego los .java de src/\n",
        "!rm -rf out && mkdir -p out\n",
        "!javac --release 17 -d out Main.java $(find src -name \"*.java\")\n",
        "\n",
        "# Ejecuta\n",
        "!java -cp out Main\n"
      ],
      "execution_count": 15,
      "outputs": [
        {
          "output_type": "stream",
          "name": "stdout",
          "text": [
            "/content/Ejercicios-de-Patrones-de-Dise-o-POO/ejercicio1/java/notifications\n",
            "-rw-r--r-- 1 root root 660 Oct  6 19:13 Main.java\n",
            "[EMAIL::sendgrid] para=u1@example.com asunto=¡Bienvenido/a, Tomás! cuerpo=Hola Tomás, gracias por registrarte.\n",
            "[SMS::twilio] para=+5493700000000 cuerpo=Tu pago para la orden A123 fue rechazado.\n"
          ]
        }
      ]
    },
    {
      "cell_type": "markdown",
      "metadata": {
        "id": "8lXIn1yV5IJA"
      },
      "source": [
        "## Ejercicio 2 – Refactor de acceso a datos legacy\n",
        "**Patrones:** Repository, Unit of Work, Dependency Injection"
      ]
    },
    {
      "cell_type": "code",
      "metadata": {
        "colab": {
          "base_uri": "https://localhost:8080/"
        },
        "id": "vzkJQGlL5IJA",
        "outputId": "f7d12f9a-9ee4-48b9-eb71-15300cc363cc"
      },
      "source": [
        "# Versión Python\n",
        "%cd /content/Ejercicios-de-Patrones-de-Dise-o-POO/ejercicio2/python/data_refactor\n",
        "!ls  # deberías ver la carpeta \"data_refactor\" con __init__.py\n",
        "!python -m data_refactor.demo"
      ],
      "execution_count": 21,
      "outputs": [
        {
          "output_type": "stream",
          "name": "stdout",
          "text": [
            "/content/Ejercicios-de-Patrones-de-Dise-o-POO/ejercicio2/python/data_refactor\n",
            "data_refactor  README.md\n",
            "Creado: Pedido(id=1, clienteId=1, monto=1500.00)\n",
            "Por cliente: [Order(id=1, customer_id=1, amount=1500.0)]\n",
            "Actualizado: Pedido(id=1, clienteId=1, monto=1999.00)\n",
            "Eliminado → obtener: None\n"
          ]
        }
      ]
    },
    {
      "cell_type": "code",
      "metadata": {
        "colab": {
          "base_uri": "https://localhost:8080/"
        },
        "id": "de4SO9dK5IJA",
        "outputId": "e6d8e6f5-d22d-42d0-f842-bd9f3af5b752"
      },
      "source": [
        "# Versión Java\n",
        "%cd /content/Ejercicios-de-Patrones-de-Dise-o-POO/ejercicio2/java/data_refactor\n",
        "!ls -l Main.java\n",
        "!rm -rf out && mkdir -p out\n",
        "!javac --release 17 -d out Main.java $(find src -name \"*.java\")\n",
        "!java -cp out Main\n"
      ],
      "execution_count": 18,
      "outputs": [
        {
          "output_type": "stream",
          "name": "stdout",
          "text": [
            "/content/Ejercicios-de-Patrones-de-Dise-o-POO/ejercicio2/java/data_refactor\n",
            "-rw-r--r-- 1 root root 704 Oct  6 19:13 Main.java\n",
            "Creado: Optional[Pedido{id=1, clienteId=1, monto=1500.00}]\n",
            "Por cliente: [Pedido{id=1, clienteId=1, monto=1500.00}]\n",
            "Actualizado: Optional[Pedido{id=1, clienteId=1, monto=1999.00}]\n",
            "Eliminado → obtener: Optional.empty\n"
          ]
        }
      ]
    },
    {
      "cell_type": "markdown",
      "metadata": {
        "id": "xUyJENv75IJA"
      },
      "source": [
        "## Ejercicio 3 – Integración de múltiples pasarelas de pago\n",
        "**Patrones:** Adapter, Factory, Circuit Breaker"
      ]
    },
    {
      "cell_type": "code",
      "metadata": {
        "colab": {
          "base_uri": "https://localhost:8080/"
        },
        "id": "iV035otE5IJB",
        "outputId": "e0e94082-a2f8-4c62-a6b9-f33447d29d1c"
      },
      "source": [
        "# Versión Python\n",
        "%cd /content/Ejercicios-de-Patrones-de-Dise-o-POO/ejercicio3/python/payments\n",
        "!ls  # deberías ver la carpeta \"payments\" con __init__.py\n",
        "!python -m payments.demo\n"
      ],
      "execution_count": 20,
      "outputs": [
        {
          "output_type": "stream",
          "name": "stdout",
          "text": [
            "/content/Ejercicios-de-Patrones-de-Dise-o-POO/ejercicio3/python/payments\n",
            "payments  README.md\n",
            "Autorización: Proveedor=mercadopago · Estado=autorizado\n",
            "Captura: Proveedor=mercadopago · Estado=capturado\n",
            "Reembolso: Proveedor=mercadopago · Estado=reembolsado\n"
          ]
        }
      ]
    },
    {
      "cell_type": "code",
      "metadata": {
        "colab": {
          "base_uri": "https://localhost:8080/"
        },
        "id": "QZy2aNmH5IJB",
        "outputId": "38621b0b-7c2a-4e3b-9f20-e0c8fb896cd3"
      },
      "source": [
        "# Versión Java\n",
        "%cd /content/Ejercicios-de-Patrones-de-Dise-o-POO/ejercicio3/java/payments\n",
        "!ls -l Main.java\n",
        "!rm -rf out && mkdir -p out\n",
        "!javac --release 17 -d out Main.java $(find src -name \"*.java\")\n",
        "!java -cp out Main\n"
      ],
      "execution_count": 19,
      "outputs": [
        {
          "output_type": "stream",
          "name": "stdout",
          "text": [
            "/content/Ejercicios-de-Patrones-de-Dise-o-POO/ejercicio3/java/payments\n",
            "-rw-r--r-- 1 root root 556 Oct  6 19:13 Main.java\n",
            "Autorización: Proveedor=mercadopago · Estado=autorizado\n",
            "Captura: Proveedor=mercadopago · Estado=capturado\n",
            "Reembolso: Proveedor=mercadopago · Estado=reembolsado\n"
          ]
        }
      ]
    }
  ],
  "metadata": {
    "kernelspec": {
      "display_name": "Python 3",
      "language": "python",
      "name": "python3"
    },
    "language_info": {
      "name": "python",
      "version": "3.x"
    },
    "colab": {
      "provenance": [],
      "include_colab_link": true
    }
  },
  "nbformat": 4,
  "nbformat_minor": 0
}